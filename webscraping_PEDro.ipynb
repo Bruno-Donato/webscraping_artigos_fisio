{
 "cells": [
  {
   "attachments": {},
   "cell_type": "markdown",
   "metadata": {},
   "source": [
    "# Webscraping Artigos Fisioterapia"
   ]
  },
  {
   "attachments": {},
   "cell_type": "markdown",
   "metadata": {},
   "source": [
    "# 1.Introdução\n",
    "\n",
    "- Objetivo desse projeto começou devido a dificuldade de acompanhar a evolução e atualizações das publicações na área de fisioterapia, especialmente na especialidade de fisioterapia ortopédica.\n",
    "\n",
    "- Inumeras bases de dados e repositórios são usados por profissionais que atuam baseados em evidencia, porém o número de publicações cresce a cada dia, dificultando a identificação das melhores publicações/evidencias assim como adquirir tais trabalhos para serem consumidos.\n",
    "\n",
    "- Inicialmente a base de dados PEDro (Physiotherapy Evidence Database) foi utilizada para aplicação da ideia.\n",
    "\n",
    "- O grande diferencial é a possibilidade de coletar as informações relevantes sobre os trabalhos, como titulo, resumo, links de acesso, DOI, ano de publicação, revista, etc, e resumi-los em um só documento, sem precisar acessar a pagina de cada um dos artigos. \n",
    "\n",
    "- Caso o programa não funcione uma possível causa é a incompatibilidade entre a versão do navegador (no caso utilizei o chrome) e o driver da biblioteca selenium."
   ]
  },
  {
   "attachments": {},
   "cell_type": "markdown",
   "metadata": {},
   "source": [
    "# 2.Carregando bibliotecas"
   ]
  },
  {
   "cell_type": "code",
   "execution_count": 8,
   "metadata": {},
   "outputs": [],
   "source": [
    "from queue import Full\n",
    "from selenium import webdriver\n",
    "from webdriver_auto_update import check_driver\n",
    "from selenium.webdriver.common.by import By\n",
    "from time import sleep"
   ]
  },
  {
   "attachments": {},
   "cell_type": "markdown",
   "metadata": {},
   "source": [
    "# 3.Criando função para preenchimento das especificações dos campos de busca dos artigos "
   ]
  },
  {
   "attachments": {},
   "cell_type": "markdown",
   "metadata": {},
   "source": [
    "- Alguns desses campos são predeterminados pela plataforma, enquanto outros são livre para preenchimento, como titulo do artigo e ano de publicação. Utilizaremos exemplos para ilustrar. Para isso é necessário conhecimento basico de HTML, e nessa função utilizei a tag ID da pagina para identificar o campo que quermos encontrar. Explicarei mais sobre interação com paginas da internet mais a frente."
   ]
  },
  {
   "cell_type": "code",
   "execution_count": 9,
   "metadata": {},
   "outputs": [],
   "source": [
    "def caixa_busca(nome, cod):\n",
    "    if cod != \"\":\n",
    "        driver.find_element(By.ID, nome).send_keys(cod)\n",
    "    else:\n",
    "        pass"
   ]
  },
  {
   "attachments": {},
   "cell_type": "markdown",
   "metadata": {},
   "source": [
    "# 4.Inicializando o driver do chrome e acessando o endereço"
   ]
  },
  {
   "attachments": {},
   "cell_type": "markdown",
   "metadata": {},
   "source": [
    "- Podemos escolher entre visualizar todo o processo ou esconder o navegador"
   ]
  },
  {
   "attachments": {},
   "cell_type": "markdown",
   "metadata": {},
   "source": [
    "    - Opção com visualização do processo no navegador"
   ]
  },
  {
   "cell_type": "code",
   "execution_count": 10,
   "metadata": {},
   "outputs": [],
   "source": [
    "driver = webdriver.Chrome()\n",
    "driver.maximize_window()\n",
    "driver.get(\"https://pedro.org.au/\")\n",
    "sleep(2)"
   ]
  },
  {
   "attachments": {},
   "cell_type": "markdown",
   "metadata": {},
   "source": [
    "    - Escondendo navegador"
   ]
  },
  {
   "cell_type": "code",
   "execution_count": null,
   "metadata": {},
   "outputs": [],
   "source": [
    "# options = webdriver.ChromeOptions()\n",
    "# options.add_argument(\"--headless\")\n",
    "# driver = webdriver.Chrome(options=options)\n",
    "# driver.get(\"https://pedro.org.au/\")\n",
    "# sleep(2)"
   ]
  },
  {
   "attachments": {},
   "cell_type": "markdown",
   "metadata": {},
   "source": [
    "# 5.Interagindo com a página e escolhendo parametros para busca"
   ]
  },
  {
   "attachments": {},
   "cell_type": "markdown",
   "metadata": {},
   "source": [
    "- A partir daqui é necessário conhecimento básico de html para interação com as paginas na internet. Basicamente investigamos a pagina (clicando com botão direito em qualquer lugar de uma pagina e escolhendo 'Inspecionar'), e tentamos descobrir qual tag é a adequada para interagirmos com ela, seja um botão, um texto ou um campo para ser preenchido. Deixarei referencia de tutorial no README.\n",
    "\n",
    "- Utilizei dois metodos diferentes (como XPATH, ID) para interação com o site."
   ]
  },
  {
   "attachments": {},
   "cell_type": "markdown",
   "metadata": {},
   "source": [
    "## 5.1.Identificando botão para a página de busca"
   ]
  },
  {
   "cell_type": "code",
   "execution_count": 11,
   "metadata": {},
   "outputs": [],
   "source": [
    "botao0 = driver.find_element(By.XPATH, \"/html/body/header/div/nav[2]/div/div/ul/li[1]/a\")\n",
    "botao0.click()\n",
    "sleep(2)"
   ]
  },
  {
   "attachments": {},
   "cell_type": "markdown",
   "metadata": {},
   "source": [
    "## 5.2.Enviando as informações para busca dos artigos"
   ]
  },
  {
   "attachments": {},
   "cell_type": "markdown",
   "metadata": {},
   "source": [
    "- Aqui utilizamos a função criada no início para preencher os campos que podemos especificar quais artigos queremos. O preenchimento de ao menos 3 ou 5 campos auxilia a afunilarmos os resultados para otimizar nossas buscas.\n",
    "\n",
    "- Ao todo é possível preencher 9 campos, porém muitos deles podem se sobrepor. Minha sugestão é fazer a pergunta nos moldes PICOT (Paciente, Intervenção, Comparação, Desfecho e Tempo) para conseguir selecionar os artigos mais adequados e com melhor qualidade metodologica.\n",
    "\n",
    "- Utilizarei de exemplos para ilustrar como seria feita uma busca. As linhas com \"#\" mostram os campos vazios e logo em seguida as especificações que utilizei para fazer a busca. Sugiro substituir os campos com os termos desejados para testar os resultados."
   ]
  },
  {
   "cell_type": "code",
   "execution_count": 12,
   "metadata": {},
   "outputs": [],
   "source": [
    "# Campo para especificar o titulo/resumo (livre)\n",
    "\n",
    "# caixa_busca('abstract_with_title', '')\n",
    "caixa_busca('abstract_with_title', 'ankle sprain')\n",
    "\n",
    "# -----------------------------------------------------------------------------------------\n",
    "# Campo para especificar o tipo de terapia (lista predeterminada)\n",
    "\n",
    "lista_terapia = [\n",
    "   'acupuncture', 'behaviour modification', 'education', 'electrotherapies, heat, cold',\n",
    "   'fitness training', 'health promotion', 'hydrotherapy, balneotherapy',\n",
    "   'neurodevelopmental therapy, neurofacilitation', 'orthoses, taping, splinting',\n",
    "   'respiratory therapy', 'skill training', 'strength training',\n",
    "   'stretching, mobilisation, manipulation, massage'\n",
    "   ]\n",
    "# caixa_busca('therapy', '')\n",
    "caixa_busca('therapy', 'orthoses, taping, splinting')\n",
    "\n",
    "# -----------------------------------------------------------------------------------------\n",
    "# Campo para especificar o problema (lista predeterminada)\n",
    "\n",
    "lista_problema = [\n",
    "    'dificulty with sputum clearance', 'frailty', 'impaired ventilation',\n",
    "    'incontinence', 'motor incoordination', 'muscle shortening, reduced joint compliance',\n",
    "    'muscle weakness', 'oedema', 'pain', 'reduced exercise tolerance',\n",
    "    'reduced work tolerance', 'skin lesion, wound, burn'\n",
    "    ]\n",
    "# caixa_busca('problem', '')\n",
    "caixa_busca('problem', 'pain')\n",
    "\n",
    "# -----------------------------------------------------------------------------------------\n",
    "# Campo para especificar o região do corpo (lista predeterminada)\n",
    "\n",
    "regiao = [\n",
    "   'head or neck', 'upper arm, shoulder or shoulder gridle', 'forearm or elbow',\n",
    "   'hand or wrist', 'chest', 'thoracic spine', 'lumbar spine, sacro-iliac joint or pelvis',\n",
    "   'perinium or genito-urinary system', 'thigh or hip', 'lower leg or knee', 'foot or ankle'\n",
    "   ]\n",
    "# caixa_busca('body_part', '')\n",
    "caixa_busca('body_part', '')\n",
    "\n",
    "# -----------------------------------------------------------------------------------------\n",
    "# Campo para especificar a subdisciplina (lista predeterminada)\n",
    "\n",
    "lista_subdisciplina = [\n",
    "   \"cardiothoracics\", \"continence and women's health\",\n",
    "   \"ergonomics and occupational health\", \"gerontology\",\n",
    "   \"musculoskeletal\", \"neurology\", \"oncology\",\n",
    "   \"orthopaedics\", \"pediatrics\", \"sports\"\n",
    "   ]\n",
    "# caixa_busca('subdiscipline', '')\n",
    "caixa_busca('subdiscipline', '')\n",
    "\n",
    "# -----------------------------------------------------------------------------------------\n",
    "# Campo para especificar o metodo do artigo (lista predeterminada)\n",
    "# # No caso desse campo em específico foi necessário adaptar a busca, devido funcionalidade \n",
    "# # mais a frente no código. Escolha um numero de 0 a 2 para colocar entre []:\n",
    "# # 0 para guidelines, 1 para revisões sistematicas e 2 para ensaio clínico\n",
    "\n",
    "lista_metodo = ['practice guideline', 'systematic review', 'clinical trial']\n",
    "# met = lista_metodo[]\n",
    "met = lista_metodo[2]\n",
    "caixa_busca('method', met)\n",
    "\n",
    "# -----------------------------------------------------------------------------------------\n",
    "# Campo para especificar desde que ano queremos publicações (livre)\n",
    "\n",
    "# caixa_busca('year_of_publication', '')\n",
    "caixa_busca('year_of_publication', '2010')\n",
    "\n",
    "# -----------------------------------------------------------------------------------------\n",
    "# Campo para especificar a pontuação minima na escala PEDro (de 1 a 10)\n",
    "\n",
    "# caixa_busca('nscore', '')\n",
    "caixa_busca('nscore', '5')\n",
    "\n",
    "# -----------------------------------------------------------------------------------------\n",
    "# Campo para especificar a quantidade de artigos por pagina (lista predeterminada porém\n",
    "# estabeleci em 50, pois assim é necessário menos interações com a pagina)\n",
    "\n",
    "# caixa_busca('perpage', '')\n",
    "caixa_busca('perpage', '50')\n",
    "\n",
    "# -----------------------------------------------------------------------------------------\n",
    "# Botão para iniciar a busca\n",
    "\n",
    "botao1 = driver.find_element(By.CLASS_NAME, \"button\")\n",
    "botao1.click()\n",
    "sleep(2)"
   ]
  },
  {
   "attachments": {},
   "cell_type": "markdown",
   "metadata": {},
   "source": [
    "# 6.Passando pelas paginas de resultados e selecionando os artigos desejados"
   ]
  },
  {
   "attachments": {},
   "cell_type": "markdown",
   "metadata": {},
   "source": [
    "- Aqui iremos passar por todas as paginas de resultado (se houver mais de 1) e coletar os titulos dos artigos encontrados. Um indicador com o numero total de artigos encontrados e logo após uma lista numerada com os todos os artigos encontrados serão mostrados. Caso apareçam muitos resultados sugiro que anote os numeros dos artigos de interesse para serem buscados na proxima sessão. \n",
    "\n",
    "- Caso nenhum artigo seja encontrado sugiro reiniciar a busca com outros parametros ou verificar se algum campo livre foi preenchido de maneira inadequada (erros de grafia ou numeros que não estão dentro dos valores corretos)"
   ]
  },
  {
   "cell_type": "code",
   "execution_count": 13,
   "metadata": {},
   "outputs": [
    {
     "name": "stdout",
     "output_type": "stream",
     "text": [
      "\n",
      "============================\n",
      "8 artigo(s) encontrado(s).\n",
      "============================\n",
      "\n",
      "1 - Effectiveness of mobilization of the talus and distal fibula in the management of acute lateral ankle sprain\n",
      "\n",
      "\n",
      "2 - Kinesio Taping does not decrease swelling in acute, lateral ankle sprain of athletes: a randomised trial [with consumer summary]\n",
      "\n",
      "\n",
      "3 - Elastic stockings or Tubigrip for ankle sprain: a randomised clinical trial\n",
      "\n",
      "\n",
      "4 - Add-on effect of Kinesiotape in patients with acute lateral ankle sprain: a randomized controlled trial\n",
      "\n",
      "\n",
      "5 - Bracing superior to neuromuscular training for the prevention of self-reported recurrent ankle sprains: a three-arm randomised controlled trial [with consumer summary]\n",
      "\n",
      "\n",
      "6 - The effect of taping versus semi-rigid bracing on patient outcome and satisfaction in ankle sprains: a prospective, randomized controlled trial\n",
      "\n",
      "\n",
      "7 - Early functional outcome of two different orthotic concepts in ankle sprains: a randomized controlled trial\n",
      "\n",
      "\n",
      "8 - Effect of foot orthoses on ankle and foot injuries in military service recruits: a randomized controlled trial\n",
      "\n"
     ]
    }
   ],
   "source": [
    "proxima_pagina = driver.find_elements(By.PARTIAL_LINK_TEXT, '»')\n",
    "lista_geral_titulo = []\n",
    "lista_geral_links = []\n",
    "lista_doi = []\n",
    "lista_scihub = []\n",
    "\n",
    "try:\n",
    "    while proxima_pagina != False:\n",
    "        lista_pagina = driver.find_elements(By.CLASS_NAME, \"left\")\n",
    "        for titulo in lista_pagina:\n",
    "            lista_geral_titulo.append(titulo.text)\n",
    "            lista_geral_links.append(titulo.get_attribute('href'))\n",
    "        sleep(1)\n",
    "        proxima_pagina = driver.find_element(By.PARTIAL_LINK_TEXT, '»')\n",
    "        proxima_pagina.click()\n",
    "except:\n",
    "    print(\"\")\n",
    "    print(\"=\"*28)\n",
    "    print(\"{} artigo(s) encontrado(s).\".format(len(lista_geral_titulo)))\n",
    "    print(\"=\"*28)\n",
    "    for i, artigo in enumerate(lista_geral_titulo):\n",
    "        print(\"\")\n",
    "        print(i+1,'-', artigo)\n",
    "        print(\"\")"
   ]
  },
  {
   "attachments": {},
   "cell_type": "markdown",
   "metadata": {},
   "source": [
    "# 7.Selecionando artigos de interesse e obtendo informações"
   ]
  },
  {
   "attachments": {},
   "cell_type": "markdown",
   "metadata": {},
   "source": [
    "- No exemplo utilizado acima encontramos 6 artigos.\n",
    "- Para selecionar os artigos de interesse digite o numero correspondente da lista um de cada vez pressionando 'Enter'. \n",
    "    - Exemplo: se quero buscar o primeiro, o terceiro e o quinto artigo digito o numero 1 seguido de 'Enter', e assim sucessivamente.\n",
    "- Após selecionar todos os artigos digite 'ok' e pressione 'Enter'."
   ]
  },
  {
   "cell_type": "code",
   "execution_count": 14,
   "metadata": {},
   "outputs": [
    {
     "name": "stdout",
     "output_type": "stream",
     "text": [
      "================================================================================================================================================================\n",
      "1 - Effectiveness of mobilization of the talus and distal fibula in the management of acute lateral ankle sprain\n",
      "\n",
      "Physical Therapy 2021 Aug;101(8):pzab111 - CLINICAL TRIAL\n",
      "\n",
      "https://dx.doi.org/10.1093/ptj/pzab111\n",
      "\n",
      "8/10 [Eligibility criteria: Yes; Random allocation: Yes; Concealed allocation: Yes; Baseline comparability: Yes; Blind subjects: No; Blind therapists: No; Blind assessors: Yes; Adequate follow-up: Yes; Intention-to-treat analysis: Yes; Between-group comparisons: Yes; Point estimates and variability: Yes. Note: Eligibility criteria item does not contribute to total score] *This score has been confirmed*\n",
      "\n",
      "OBJECTIVE: Distal fibula mobilization with movement (MWM), with and without a posterior gliding fibular tape, and anteroposterior mobilization of the talus (MOB) are widely used to treat acute lateral ankle sprains. The purpose of this study was to investigate the short-term and long-term relative effectiveness of these techniques. METHODS: In this double-blind randomized controlled trial, 45 amateur soccer players with acute (< 72 hours) lateral ankle sprain were randomly allocated to 6 sessions (3 per week within the first 2 weeks) of either MWM, MWM with tape (MWMtape), or MOB. All participants also received general advice, transcutaneous electrical nerve stimulation (TENS), edema draining massage. and a program of proprioception exercises. Participant ratings of function on the Foot and Ankle Ability Measure (FAAM) and Patient Global Impression of Improvement Scale (PGI-I) were the primary outcomes measured over 52 weeks. Secondary outcomes were ankle pain, pressure pain threshold, range of motion, volume, and strength. RESULTS: Participants receiving MWM and MWMtape were equally effective and demonstrated greater function on FAAM at 12 and 52 weeks when compared with those receiving MOB; however, the latter demonstrated superior function at 2 weeks. No differences between groups were observed for PGI-I or any of the secondary outcomes. CONCLUSION: There are limited differences in the short term among techniques, with the exception of better sport function with MOB. Over the longer term, the distal fibula MWM is most effective to achieve activities of daily living (ADL) and sport function, when added to usual physical therapy care. The addition of a posterior gliding fibular tape provides no additional benefit. IMPACT: Distal fibula mobilization with movement may be the most appropriate choice of treatment for acute lateral ankle sprain to achieve long term ADL and sport function. In the short term, antero-posterior mobilization of the talus offers greater improvement in sport function. The use of fibular tape provides no added benefit as an adjunct to a treatment that includes distal fibula mobilization with movement.\n",
      "\n",
      "\n",
      "\n",
      "================================================================================================================================================================\n",
      "3 - Elastic stockings or Tubigrip for ankle sprain: a randomised clinical trial\n",
      "\n",
      "Injury 2012 Jul;43(7):1079-1083 - CLINICAL TRIAL\n",
      "\n",
      "https://dx.doi.org/10.1016/j.injury.2012.01.026\n",
      "\n",
      "8/10 [Eligibility criteria: Yes; Random allocation: Yes; Concealed allocation: Yes; Baseline comparability: Yes; Blind subjects: No; Blind therapists: No; Blind assessors: Yes; Adequate follow-up: Yes; Intention-to-treat analysis: Yes; Between-group comparisons: Yes; Point estimates and variability: Yes. Note: Eligibility criteria item does not contribute to total score] *This score has been confirmed*\n",
      "\n",
      "BACKGROUND: Ankle sprains are common and generally believed to be benign and self-limiting. However, a significant proportion of patients with ankle sprains have persistent symptoms for months or even years. AIMS: The study aimed to evaluate whether elastic stockings improve recovery following ankle sprain. METHODOLOGY: All patients within 72 h of ankle sprain were identified in accident and emergency or the fracture clinic. Consenting patients, stratified for sex, were randomised to either: (i) Tubigrip or (ii) class II below knee elastic stockings (ESs, Medi UK Ltd) which were fitted immediately and worn until the patient was pain-free and fully mobile. The deep veins of the injured legs were imaged by duplex Doppler for deep vein thrombosis (DVT) at 4 weeks. Outcome was compared using the American Orthopaedic Foot and Ankle Score (AOFAS) and SF12v2 for quality of life. RESULTS: In the 36 randomised patients, the mean (95% confidence interval (CI)) circumference of the injured ankle treated by ES was 23.5 (23 to 24) cm initially and 22 (22 to 23) and 22 (21 to 22.5) cm at 4 and 8 weeks (p < 0.001) compared with 24 (23 to 25) cm initially and 24 (23 to 25) and 24 (23 to 24.5) cm using Tubigrip (p < 0.001). By 8 weeks, the mean AOFAS and SF12v2 scores were significantly improved by ES at 99 (8.1) and 119 (118 to 121) compared with 88 (11) and 102 (99 to 107) with Tubigrip (p < 0.001). Of the 34 duplex images at 4 weeks, none had a DVT. CONCLUSION: Elastic compression improves recovery following ankle sprain.\n",
      "With permission from Excerpta Medica Inc.\n",
      "\n",
      "\n",
      "\n",
      "================================================================================================================================================================\n",
      "4 - Add-on effect of Kinesiotape in patients with acute lateral ankle sprain: a randomized controlled trial\n",
      "\n",
      "Trials 2020 Feb 12;21(176):Epub - CLINICAL TRIAL\n",
      "\n",
      "https://dx.doi.org/10.1186/s13063-020-4111-z\n",
      "\n",
      "7/10 [Eligibility criteria: Yes; Random allocation: Yes; Concealed allocation: Yes; Baseline comparability: Yes; Blind subjects: No; Blind therapists: No; Blind assessors: Yes; Adequate follow-up: Yes; Intention-to-treat analysis: No; Between-group comparisons: Yes; Point estimates and variability: Yes. Note: Eligibility criteria item does not contribute to total score] *This score has been confirmed*\n",
      "\n",
      "BACKGROUND: Evidence for the add-on effect of Kinesiotape (KT) with acupuncture for treating ankle sprains remains insufficient. We assessed the add-on effect of KT on ankle sprains by comparing acupuncture combined with KT (AcuKT) with acupuncture alone in patients with acute lateral ankle sprain (ALAS). METHODS: This study was a multicenter, randomized controlled clinical trial that included a per-protocol analysis of the add-on effect of KT on ALAS. The randomization was software based and only the assessors were blinded. Sixty participants (20 each from three centers) with grade I or II ALAS were randomly assigned to acupuncture (n = 30) or AcuKT (n = 30) groups. Both groups received acupuncture treatment once daily, 5 days per week for 1 week. The AcuKT group received additional KT treatment. Visual analog scale (VAS) scores for pain and the Foot and Ankle Outcome Score (FAOS) were obtained, and edema measurements were performed at baseline (week 0), at the end of the intervention (week 1), and at 4 weeks after intervention (week 5). The European Quality of Life Five Dimension -- Five Level Scale (EQ-5D-5 L) measurements were conducted at week 0, week 1, week 5, and week 26 after the intervention. The number of recurrent ankle sprains was determined at 4, 8, 12 and 26 weeks after the intervention. RESULTS: Fifty-six patients with ALAS completed the trial (AcuKT group, n = 27; acupuncture group, n = 29). There were significant changes in visual analog scale score (AcuKT, p < 0.001; acupuncture, p < 0.001), the FAOS (AcuKT, p < 0.001; acupuncture, p < 0.001), and EQ-5D-5 L measurements (AcuKT, p < 0.001; acupuncture, p < 0.001) within both groups. There were no significant differences between groups in terms of any outcome or in a subanalysis based on symptom severity. CONCLUSIONS: These results indicate that AcuKT did not show a positive add-on effect of KT with acupuncture in terms of pain reduction, edema, recovery of function, activities of daily living, quality of life or relapse of ALAS. TRIAL REGISTRATION: Clinical Research Information Service (cris.nih.go.kr) KCT0002257. Registered on 27 February 2017.\n",
      "\n",
      "\n",
      "\n",
      "================================================================================================================================================================\n",
      "5 - Bracing superior to neuromuscular training for the prevention of self-reported recurrent ankle sprains: a three-arm randomised controlled trial [with consumer summary]\n",
      "\n",
      "British Journal of Sports Medicine 2014 Aug;48(16):1235-1239 - CLINICAL TRIAL\n",
      "\n",
      "https://dx.doi.org/10.1136/bjsports-2013-092947\n",
      "\n",
      "7/10 [Eligibility criteria: Yes; Random allocation: Yes; Concealed allocation: Yes; Baseline comparability: Yes; Blind subjects: No; Blind therapists: No; Blind assessors: No; Adequate follow-up: Yes; Intention-to-treat analysis: Yes; Between-group comparisons: Yes; Point estimates and variability: Yes. Note: Eligibility criteria item does not contribute to total score] *This score has been confirmed*\n",
      "\n",
      "BACKGROUND: Ankle sprain is the most common sports-related injury with a high rate of recurrence and associated costs. Recent studies have emphasised the effectiveness of both neuromuscular training and bracing for the secondary prevention of ankle sprains. AIM: To evaluate the effectiveness of combined bracing and neuromuscular training, or bracing alone, against the use of neuromuscular training on recurrences of ankle sprain after usual care. METHODS: 384 athletes, aged 18 to 70, who had sustained a lateral ankle sprain, were included (training group n = 120; brace group n = 126; combi group n = 138). The training group received an 8-week home-based neuromuscular training programme, the brace group received a semirigid ankle brace to be worn during all sports activities for 12 months, and the combi group received both the training programme, as well as the ankle brace, to be worn during all sports activities for 8 weeks. The main outcome measure was self-reported recurrence of the ankle sprain. RESULTS: During the 1-year follow-up, 69 participants (20%) reported a recurrent ankle sprain: 29 (27%) in the training group, 17 (15%) in the brace group and 23 (19%) in the combi group. The relative risk for a recurrent ankle sprain in the brace group versus the training group was 0.53 (95% CI 0.29 to 0.97). No significant differences were found for time losses or costs due to ankle sprains between the intervention groups. CONCLUSIONS: Bracing was superior to neuromuscular training in reducing the incidence but not the severity of self-reported recurrent ankle sprains after usual care.\n",
      "Reproduced with permission from the BMJ Publishing Group.\n",
      "\n",
      "\n",
      "\n",
      "================================================================================================================================================================\n",
      "8 - Effect of foot orthoses on ankle and foot injuries in military service recruits: a randomized controlled trial\n",
      "\n",
      "Biosciences, Biotechnology Research Asia 2014 Dec;11(3):1141-1148 - CLINICAL TRIAL\n",
      "\n",
      "https://dx.doi.org/10.13005/bbra/1499\n",
      "\n",
      "5/10 [Eligibility criteria: Yes; Random allocation: Yes; Concealed allocation: No; Baseline comparability: Yes; Blind subjects: No; Blind therapists: No; Blind assessors: No; Adequate follow-up: Yes; Intention-to-treat analysis: No; Between-group comparisons: Yes; Point estimates and variability: Yes. Note: Eligibility criteria item does not contribute to total score] *This score has been confirmed*\n",
      "\n",
      "Copyright release for this abstract has not been granted.\n",
      "\n",
      "Abstract and full text (sometimes free) may be available at these link(s):      help\n",
      "\n"
     ]
    }
   ],
   "source": [
    "try:\n",
    "    selecao_artigos = []\n",
    "    while True:\n",
    "        selecao_artigos.append(int(input(\"Artigo(s) que desejo ler resumo: \")))\n",
    "except:\n",
    "    for num in selecao_artigos:\n",
    "        num = int(num)\n",
    "        num -= 1\n",
    "        driver.get(lista_geral_links[num])\n",
    "        sleep(2)\n",
    "        revista = driver.find_element(By.XPATH, '//*[@id=\"search-content\"]/table/tbody/tr[3]/td')\n",
    "        tipo = driver.find_element(By.XPATH, '//*[@id=\"search-content\"]/table/tbody/tr[4]/td')\n",
    "        try:\n",
    "            escala_pedro = driver.find_element(By.XPATH, '//*[@id=\"search-content\"]/table/tbody/tr[5]')\n",
    "        except:\n",
    "            escala_pedro = driver.find_element(By.XPATH, '//*[@id=\"search-content\"]/table/tbody/tr[5]/td')\n",
    "        finally:\n",
    "            pass\n",
    "        try:\n",
    "            resumo = driver.find_element(By.XPATH, '//*[@id=\"search-content\"]/table/tbody/tr[5]/td/p[1]')\n",
    "            resumo = resumo.text.removesuffix('Full text (sometimes free) may be available at these link(s):      help')\n",
    "        except:\n",
    "            resumo = driver.find_element(By.XPATH, '//*[@id=\"search-content\"]/table/tbody/tr[6]/td/p[1]')\n",
    "            resumo = resumo.text.removesuffix('Full text (sometimes free) may be available at these link(s):      help')\n",
    "        finally:\n",
    "            pass\n",
    "        try:\n",
    "            doi = driver.find_element(By.PARTIAL_LINK_TEXT, 'DOI').get_attribute('href')\n",
    "        except:\n",
    "            pass\n",
    "        try:\n",
    "            lista_doi.append(doi)\n",
    "        except:\n",
    "            pass\n",
    "        print(\"=\"*160)\n",
    "        print(num + 1, '-', lista_geral_titulo[num])\n",
    "        print(\"\")\n",
    "        print(revista.text, \"-\", tipo.text.upper())\n",
    "        print(\"\")\n",
    "        try:\n",
    "            print(doi)\n",
    "            print(\"\")\n",
    "        except:\n",
    "            pass\n",
    "        if met == lista_metodo[2]:\n",
    "            try:\n",
    "                print(escala_pedro.text)\n",
    "                print(\"\")\n",
    "            except:\n",
    "                pass\n",
    "        else:\n",
    "            pass\n",
    "        try:\n",
    "            print(resumo)\n",
    "            print(\"\")\n",
    "        except:\n",
    "            pass"
   ]
  },
  {
   "attachments": {},
   "cell_type": "markdown",
   "metadata": {},
   "source": [
    "# Ao final temos uma relação de todos os artigos selecionados com as informações relevantes. \n",
    "\n",
    "- Esse programa é muito util principalmente quando encontramos muitos artigos nas buscas ou quando estamos buscando de forma menos especificas.\n",
    "\n",
    "- De todo modo é um auxilio para evitar ter de manualmente entrar em todas as paginas para obter as informações\n",
    "\n",
    "- Alguns erros podem ocorrer durante o processo, como não encontrar artigos correspondentes a busca, digitar numero fora na lista recebida e até duplicatas de textos no resultado final. Aos poucos essas falhas estão sendo resolvidas, mas o feito é melhor do que o perfeito :)\n",
    "\n",
    "### Espero que esse programinha possa ajudar quem quer agilizar o processo de busca e leitura de artigos. \n",
    "### Futuramente serão adicionadas outras funcionalidades e facilidades!\n",
    "\n"
   ]
  },
  {
   "cell_type": "markdown",
   "metadata": {},
   "source": []
  }
 ],
 "metadata": {
  "kernelspec": {
   "display_name": "Python 3",
   "language": "python",
   "name": "python3"
  },
  "language_info": {
   "codemirror_mode": {
    "name": "ipython",
    "version": 3
   },
   "file_extension": ".py",
   "mimetype": "text/x-python",
   "name": "python",
   "nbconvert_exporter": "python",
   "pygments_lexer": "ipython3",
   "version": "3.10.4"
  },
  "orig_nbformat": 4,
  "vscode": {
   "interpreter": {
    "hash": "2852de53f51e57db0fb3c92b7d03cd28fd1e6acc643c7bf23f4addc7db48be7a"
   }
  }
 },
 "nbformat": 4,
 "nbformat_minor": 2
}
